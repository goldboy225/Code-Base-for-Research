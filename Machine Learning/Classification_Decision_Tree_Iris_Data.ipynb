{
  "nbformat": 4,
  "nbformat_minor": 0,
  "metadata": {
    "colab": {
      "provenance": [],
      "authorship_tag": "ABX9TyNkbCV+ARfTjIxixakEsC+E",
      "include_colab_link": true
    },
    "kernelspec": {
      "name": "python3",
      "display_name": "Python 3"
    },
    "language_info": {
      "name": "python"
    }
  },
  "cells": [
    {
      "cell_type": "markdown",
      "metadata": {
        "id": "view-in-github",
        "colab_type": "text"
      },
      "source": [
        "<a href=\"https://colab.research.google.com/github/goldboy225/Code-Base-for-Research/blob/main/Classification_Decision_Tree_Iris_Data.ipynb\" target=\"_parent\"><img src=\"https://colab.research.google.com/assets/colab-badge.svg\" alt=\"Open In Colab\"/></a>"
      ]
    },
    {
      "cell_type": "markdown",
      "source": [
        "Here is a sample Python code that we can use to implement classification on the Iris dataset using a decision tree algorithm:"
      ],
      "metadata": {
        "id": "noZNtQ2QnC9D"
      }
    },
    {
      "cell_type": "code",
      "execution_count": null,
      "metadata": {
        "colab": {
          "base_uri": "https://localhost:8080/"
        },
        "id": "ovu5lQf3m0oT",
        "outputId": "b238ca4c-13aa-4de7-b7e7-57f1ade1bfba"
      },
      "outputs": [
        {
          "output_type": "stream",
          "name": "stdout",
          "text": [
            "Accuracy: 0.91\n"
          ]
        }
      ],
      "source": [
        "# Import necessary libraries\n",
        "from sklearn import datasets\n",
        "from sklearn import tree\n",
        "from sklearn.model_selection import train_test_split\n",
        "\n",
        "# Load the Iris dataset\n",
        "iris = datasets.load_iris()\n",
        "\n",
        "# Split the dataset into training and testing sets\n",
        "X_train, X_test, y_train, y_test = train_test_split(iris.data, iris.target, test_size=0.3)\n",
        "\n",
        "# Create a decision tree classifier\n",
        "clf = tree.DecisionTreeClassifier()\n",
        "\n",
        "# Train the classifier on the training data\n",
        "clf.fit(X_train, y_train)\n",
        "\n",
        "# Make predictions on the testing data\n",
        "predictions = clf.predict(X_test)\n",
        "\n",
        "# Calculate and print the accuracy of the model\n",
        "accuracy = (predictions == y_test).mean()\n",
        "print(f\"Accuracy: {accuracy:.2f}\")"
      ]
    },
    {
      "cell_type": "markdown",
      "source": [
        "This code uses the DecisionTreeClassifier class from scikit-learn to train a decision tree model on the Iris dataset. It first splits the dataset into training and testing sets, using a test size of 30%. It then trains the classifier on the training data and makes predictions on the testing data. Finally, it calculates and prints the accuracy of the model, which is the fraction of correct predictions.\n",
        "\n",
        "We can customize this code to suit our needs, such as by adjusting the test size or by using different evaluation metrics (e.g., precision, recall, or F1 score). We can also try different parameters for the decision tree classifier, such as the maximum depth or the minimum number of samples required to split a node."
      ],
      "metadata": {
        "id": "zkSPOoX5nUrb"
      }
    }
  ]
}