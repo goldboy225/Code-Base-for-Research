{
  "nbformat": 4,
  "nbformat_minor": 0,
  "metadata": {
    "colab": {
      "provenance": [],
      "authorship_tag": "ABX9TyO18tuXL4T2gTmeiMENBpYU",
      "include_colab_link": true
    },
    "kernelspec": {
      "name": "python3",
      "display_name": "Python 3"
    },
    "language_info": {
      "name": "python"
    }
  },
  "cells": [
    {
      "cell_type": "markdown",
      "metadata": {
        "id": "view-in-github",
        "colab_type": "text"
      },
      "source": [
        "<a href=\"https://colab.research.google.com/github/goldboy225/Code-Base-for-Research/blob/main/Machine%20Learning/Classification_OneClass_SVM_Iris.ipynb\" target=\"_parent\"><img src=\"https://colab.research.google.com/assets/colab-badge.svg\" alt=\"Open In Colab\"/></a>"
      ]
    },
    {
      "cell_type": "markdown",
      "source": [
        "Here is python code to do classify the iris data using one-class machine learning algorithm"
      ],
      "metadata": {
        "id": "MhHUbwmSV48Y"
      }
    },
    {
      "cell_type": "markdown",
      "source": [
        "One-class classification is a machine learning task in which the goal is to identify samples that belong to a given class, while rejecting samples that do not belong to that class. Here is a sample Python code that we can use to classify a dataset using a one-class machine learning algorithm:"
      ],
      "metadata": {
        "id": "MoCBBs0dV7xX"
      }
    },
    {
      "cell_type": "code",
      "execution_count": 6,
      "metadata": {
        "colab": {
          "base_uri": "https://localhost:8080/"
        },
        "id": "pi25tQrlVm8U",
        "outputId": "82825f95-a8b2-422f-96c7-baec296c6ce8"
      },
      "outputs": [
        {
          "output_type": "stream",
          "name": "stdout",
          "text": [
            "Accuracy: 0.33\n"
          ]
        }
      ],
      "source": [
        "# Import necessary libraries\n",
        "from sklearn import datasets\n",
        "from sklearn.svm import OneClassSVM\n",
        "\n",
        "# Load the Iris dataset\n",
        "iris = datasets.load_iris()\n",
        "X = iris.data\n",
        "y = iris.target\n",
        "\n",
        "# Create a one-class SVM classifier\n",
        "clf = OneClassSVM(kernel='rbf', degree=3, gamma='scale', coef0=0.0, tol=0.001, nu=0.5, shrinking=True, \n",
        "                  cache_size=200, verbose=False, max_iter=-1)\n",
        "\n",
        "# Train the classifier on the dataset\n",
        "clf.fit(X)\n",
        "\n",
        "# Predict the labels of the samples\n",
        "predictions = clf.predict(X)\n",
        "\n",
        "# Calculate and print the accuracy of the model\n",
        "accuracy = (predictions == y).mean()\n",
        "print(f\"Accuracy: {accuracy:.2f}\")"
      ]
    },
    {
      "cell_type": "markdown",
      "source": [
        "This code uses the OneClassSVM class from scikit-learn to train a one-class support vector machine (SVM) model on the Iris dataset. It first loads the dataset into the variables X and y, which contain the feature values and target labels, respectively. It then creates a one-class SVM classifier with the default parameters, which include a radial basis function (RBF) kernel and the nu parameter set to 0.5. It trains the classifier on the dataset and then uses it to make predictions on the same data. Finally, it calculates and prints the accuracy of the model."
      ],
      "metadata": {
        "id": "QaQvXQDtXJws"
      }
    },
    {
      "cell_type": "markdown",
      "source": [
        "We can customize this code to suit our needs, such as by adjusting the kernel or the value of the nu parameter. We can also try using a different one-class classification algorithm, such as a one-class KNN or a one-class neural network."
      ],
      "metadata": {
        "id": "ETy8z75MXTfi"
      }
    },
    {
      "cell_type": "code",
      "source": [],
      "metadata": {
        "id": "TzwJGsPJWgvN"
      },
      "execution_count": null,
      "outputs": []
    }
  ]
}