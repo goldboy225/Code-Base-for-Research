{
  "nbformat": 4,
  "nbformat_minor": 0,
  "metadata": {
    "colab": {
      "provenance": [],
      "authorship_tag": "ABX9TyOrEPRNYF+703xY756P0Xrn",
      "include_colab_link": true
    },
    "kernelspec": {
      "name": "python3",
      "display_name": "Python 3"
    },
    "language_info": {
      "name": "python"
    }
  },
  "cells": [
    {
      "cell_type": "markdown",
      "metadata": {
        "id": "view-in-github",
        "colab_type": "text"
      },
      "source": [
        "<a href=\"https://colab.research.google.com/github/goldboy225/Code-Base-for-Research/blob/main/Classification_kNN_Iris_Data.ipynb\" target=\"_parent\"><img src=\"https://colab.research.google.com/assets/colab-badge.svg\" alt=\"Open In Colab\"/></a>"
      ]
    },
    {
      "cell_type": "markdown",
      "source": [
        "Here is the python code to implement classification on iris data using kNN algorithm"
      ],
      "metadata": {
        "id": "dNzajgipqgud"
      }
    },
    {
      "cell_type": "markdown",
      "source": [
        "K-nearest neighbors (KNN) is a classification algorithm that works by finding the K nearest data points to a given point, and then classifying the given point based on the majority class of those K nearest points. Here is a sample Python code that we can use to implement classification on the Iris dataset using the KNN algorithm:"
      ],
      "metadata": {
        "id": "7YrhQNAyqwCq"
      }
    },
    {
      "cell_type": "code",
      "execution_count": 1,
      "metadata": {
        "colab": {
          "base_uri": "https://localhost:8080/"
        },
        "id": "bw4ICbn1qfbU",
        "outputId": "e7e746d2-5e7a-4353-d37e-3721c1962152"
      },
      "outputs": [
        {
          "output_type": "stream",
          "name": "stdout",
          "text": [
            "Accuracy: 0.96\n"
          ]
        }
      ],
      "source": [
        "# Import necessary libraries\n",
        "from sklearn import datasets\n",
        "from sklearn.neighbors import KNeighborsClassifier\n",
        "from sklearn.model_selection import train_test_split\n",
        "\n",
        "# Load the Iris dataset\n",
        "iris = datasets.load_iris()\n",
        "\n",
        "# Split the dataset into training and testing sets\n",
        "X_train, X_test, y_train, y_test = train_test_split(iris.data, iris.target, test_size=0.3)\n",
        "\n",
        "# Create a KNN classifier\n",
        "knn = KNeighborsClassifier(n_neighbors=5)\n",
        "\n",
        "# Train the classifier on the training data\n",
        "knn.fit(X_train, y_train)\n",
        "\n",
        "# Make predictions on the testing data\n",
        "predictions = knn.predict(X_test)\n",
        "\n",
        "# Calculate and print the accuracy of the model\n",
        "accuracy = (predictions == y_test).mean()\n",
        "print(f\"Accuracy: {accuracy:.2f}\")"
      ]
    },
    {
      "cell_type": "markdown",
      "source": [
        "This code uses the KNeighborsClassifier class from scikit-learn to train a KNN model on the Iris dataset. It first splits the dataset into training and testing sets, using a test size of 30%. It then creates a KNN classifier with K=5 (i.e., using the 5 nearest neighbors to make predictions) and trains the classifier on the training data. Finally, it makes predictions on the testing data and calculates and prints the accuracy of the model.\n",
        "\n",
        "We can customize this code to suit our needs, such as by adjusting the test size or by using different evaluation metrics (e.g., precision, recall, or F1 score). You can also try different values for the parameter K, such as 3, 7, or 11, to see how it affects the accuracy of the model."
      ],
      "metadata": {
        "id": "KgOF0Dacq8nk"
      }
    }
  ]
}