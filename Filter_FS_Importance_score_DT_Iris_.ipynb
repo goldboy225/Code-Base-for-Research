{
  "nbformat": 4,
  "nbformat_minor": 0,
  "metadata": {
    "colab": {
      "provenance": [],
      "authorship_tag": "ABX9TyOPXsC3rhiWPwn/Tz/k9oJ1",
      "include_colab_link": true
    },
    "kernelspec": {
      "name": "python3",
      "display_name": "Python 3"
    },
    "language_info": {
      "name": "python"
    }
  },
  "cells": [
    {
      "cell_type": "markdown",
      "metadata": {
        "id": "view-in-github",
        "colab_type": "text"
      },
      "source": [
        "<a href=\"https://colab.research.google.com/github/goldboy225/Code-Base-for-Research/blob/main/Filter_FS_Importance_score_DT_Iris_.ipynb\" target=\"_parent\"><img src=\"https://colab.research.google.com/assets/colab-badge.svg\" alt=\"Open In Colab\"/></a>"
      ]
    },
    {
      "cell_type": "markdown",
      "source": [
        "Here is python code to implement feature selection using importance score by decision tree for iris data"
      ],
      "metadata": {
        "id": "2HfC5JYc7_iA"
      }
    },
    {
      "cell_type": "code",
      "execution_count": 2,
      "metadata": {
        "id": "mbha5I0W7hUG"
      },
      "outputs": [],
      "source": [
        "import pandas as pd\n",
        "import numpy as np\n",
        "from sklearn.tree import DecisionTreeClassifier\n",
        "\n",
        "# Load the Iris data set\n",
        "data = pd.read_csv(\"https://archive.ics.uci.edu/ml/machine-learning-databases/iris/iris.data\", \n",
        "                   names=[\"sepal length\", \"sepal width\", \"petal length\", \"petal width\", \"class\"])\n",
        "X = data.iloc[:, :-1]\n",
        "y = data[\"class\"]\n",
        "\n",
        "# Train a decision tree model\n",
        "model = DecisionTreeClassifier()\n",
        "model.fit(X, y)\n",
        "\n",
        "# Compute the feature importances\n",
        "importances = model.feature_importances_\n",
        "\n",
        "# Sort the importances in descending order\n",
        "indices = np.argsort(importances)[::-1]\n",
        "\n",
        "# Select the top 2 features\n",
        "selected_features = indices[:2]"
      ]
    },
    {
      "cell_type": "code",
      "source": [
        "# Print the importance score\n",
        "importances"
      ],
      "metadata": {
        "colab": {
          "base_uri": "https://localhost:8080/"
        },
        "id": "oqrjO0NF8H0s",
        "outputId": "a9f7d72b-2fe2-4145-fe22-b495f987cf1b"
      },
      "execution_count": 3,
      "outputs": [
        {
          "output_type": "execute_result",
          "data": {
            "text/plain": [
              "array([0.01333333, 0.        , 0.06405596, 0.92261071])"
            ]
          },
          "metadata": {},
          "execution_count": 3
        }
      ]
    },
    {
      "cell_type": "code",
      "source": [
        "# Print the selected features\n",
        "selected_features"
      ],
      "metadata": {
        "colab": {
          "base_uri": "https://localhost:8080/"
        },
        "id": "WX7F52V78YUO",
        "outputId": "c892086c-6b09-4eb6-c23b-36dfdd21ac0a"
      },
      "execution_count": 4,
      "outputs": [
        {
          "output_type": "execute_result",
          "data": {
            "text/plain": [
              "array([3, 2])"
            ]
          },
          "metadata": {},
          "execution_count": 4
        }
      ]
    }
  ]
}