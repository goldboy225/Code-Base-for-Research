{
  "nbformat": 4,
  "nbformat_minor": 0,
  "metadata": {
    "colab": {
      "provenance": [],
      "authorship_tag": "ABX9TyPRXPETeUw942zJzfteyNe1",
      "include_colab_link": true
    },
    "kernelspec": {
      "name": "python3",
      "display_name": "Python 3"
    },
    "language_info": {
      "name": "python"
    }
  },
  "cells": [
    {
      "cell_type": "markdown",
      "metadata": {
        "id": "view-in-github",
        "colab_type": "text"
      },
      "source": [
        "<a href=\"https://colab.research.google.com/github/goldboy225/Code-Base-for-Research/blob/main/Classification_DNN_Iris_Data.ipynb\" target=\"_parent\"><img src=\"https://colab.research.google.com/assets/colab-badge.svg\" alt=\"Open In Colab\"/></a>"
      ]
    },
    {
      "cell_type": "markdown",
      "source": [
        "Here is the python code to implement classification on F1-score on iris data using DNN algorithm"
      ],
      "metadata": {
        "id": "R_EmAXuo_brj"
      }
    },
    {
      "cell_type": "markdown",
      "source": [
        "Deep neural networks (DNNs) are a type of machine learning algorithm that can be used for classification and regression tasks. Here is a sample Python code that you can use to implement classification on the Iris dataset using a DNN:"
      ],
      "metadata": {
        "id": "3XzDEiRI_gb5"
      }
    },
    {
      "cell_type": "code",
      "execution_count": 9,
      "metadata": {
        "colab": {
          "base_uri": "https://localhost:8080/"
        },
        "id": "9iy5A2jD_YTY",
        "outputId": "1045b559-a08f-4523-b6fc-b974fc99765c"
      },
      "outputs": [
        {
          "output_type": "stream",
          "name": "stdout",
          "text": [
            "Epoch 1/10\n",
            "4/4 [==============================] - 1s 4ms/step - loss: 2.2079 - accuracy: 0.3429\n",
            "Epoch 2/10\n",
            "4/4 [==============================] - 0s 3ms/step - loss: 2.1283 - accuracy: 0.3429\n",
            "Epoch 3/10\n",
            "4/4 [==============================] - 0s 3ms/step - loss: 2.0574 - accuracy: 0.3429\n",
            "Epoch 4/10\n",
            "4/4 [==============================] - 0s 3ms/step - loss: 1.9784 - accuracy: 0.3429\n",
            "Epoch 5/10\n",
            "4/4 [==============================] - 0s 3ms/step - loss: 1.9108 - accuracy: 0.3429\n",
            "Epoch 6/10\n",
            "4/4 [==============================] - 0s 4ms/step - loss: 1.8349 - accuracy: 0.3429\n",
            "Epoch 7/10\n",
            "4/4 [==============================] - 0s 5ms/step - loss: 1.7610 - accuracy: 0.3429\n",
            "Epoch 8/10\n",
            "4/4 [==============================] - 0s 4ms/step - loss: 1.6938 - accuracy: 0.3429\n",
            "Epoch 9/10\n",
            "4/4 [==============================] - 0s 3ms/step - loss: 1.6261 - accuracy: 0.3429\n",
            "Epoch 10/10\n",
            "4/4 [==============================] - 0s 3ms/step - loss: 1.5603 - accuracy: 0.3429\n",
            "2/2 [==============================] - 0s 7ms/step - loss: 1.2742 - accuracy: 0.3111\n",
            "Loss: 1.2742, Accuracy: 0.31\n"
          ]
        }
      ],
      "source": [
        "# Import necessary libraries\n",
        "import tensorflow as tf\n",
        "from sklearn import datasets\n",
        "from sklearn.model_selection import train_test_split\n",
        "\n",
        "# Load the Iris dataset\n",
        "iris = datasets.load_iris()\n",
        "\n",
        "# Split the dataset into training and testing sets\n",
        "X_train, X_test, y_train, y_test = train_test_split(iris.data, iris.target, test_size=0.3)\n",
        "\n",
        "# Convert the labels to one-hot encoded form\n",
        "y_train = tf.keras.utils.to_categorical(y_train)\n",
        "y_test = tf.keras.utils.to_categorical(y_test)\n",
        "\n",
        "# Build the model\n",
        "model = tf.keras.Sequential([\n",
        "    tf.keras.layers.Dense(8, input_shape=(4,), activation='relu'),\n",
        "    tf.keras.layers.Dense(3, activation='softmax')\n",
        "])\n",
        "\n",
        "# Compile the model\n",
        "model.compile(optimizer='adam', loss='categorical_crossentropy', metrics=['accuracy'])\n",
        "\n",
        "# Train the model\n",
        "model.fit(X_train, y_train, epochs=10, batch_size=32)\n",
        "\n",
        "# Evaluate the model on the testing data\n",
        "loss, accuracy = model.evaluate(X_test, y_test)\n",
        "print(f\"Loss: {loss:.4f}, Accuracy: {accuracy:.2f}\")"
      ]
    },
    {
      "cell_type": "code",
      "source": [],
      "metadata": {
        "id": "a0-EpDFc_jxV"
      },
      "execution_count": null,
      "outputs": []
    }
  ]
}