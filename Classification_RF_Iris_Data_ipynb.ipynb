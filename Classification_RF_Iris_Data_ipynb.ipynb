{
  "nbformat": 4,
  "nbformat_minor": 0,
  "metadata": {
    "colab": {
      "provenance": [],
      "authorship_tag": "ABX9TyNHA4hXY1a9NpAfd5dnCGX0",
      "include_colab_link": true
    },
    "kernelspec": {
      "name": "python3",
      "display_name": "Python 3"
    },
    "language_info": {
      "name": "python"
    }
  },
  "cells": [
    {
      "cell_type": "markdown",
      "metadata": {
        "id": "view-in-github",
        "colab_type": "text"
      },
      "source": [
        "<a href=\"https://colab.research.google.com/github/goldboy225/Code-Base-for-Research/blob/main/Classification_RF_Iris_Data_ipynb.ipynb\" target=\"_parent\"><img src=\"https://colab.research.google.com/assets/colab-badge.svg\" alt=\"Open In Colab\"/></a>"
      ]
    },
    {
      "cell_type": "markdown",
      "source": [
        "Here is the python code to implement classification on iris data using random forest algorithm"
      ],
      "metadata": {
        "id": "Z2A6sHxAxWDm"
      }
    },
    {
      "cell_type": "markdown",
      "source": [
        "Random forests are a type of ensemble learning algorithm that can be used for classification and regression tasks. Here is a sample Python code that we can use to implement classification on the Iris dataset using a random forest algorithm:"
      ],
      "metadata": {
        "id": "GumsODXcxeTL"
      }
    },
    {
      "cell_type": "code",
      "execution_count": 1,
      "metadata": {
        "colab": {
          "base_uri": "https://localhost:8080/"
        },
        "id": "FxAd5rIExU3M",
        "outputId": "6d816ce6-0498-4f0f-bd4c-af98cbccc400"
      },
      "outputs": [
        {
          "output_type": "stream",
          "name": "stdout",
          "text": [
            "Accuracy: 0.91\n"
          ]
        }
      ],
      "source": [
        "# Import necessary libraries\n",
        "from sklearn import datasets\n",
        "from sklearn.ensemble import RandomForestClassifier\n",
        "from sklearn.model_selection import train_test_split\n",
        "\n",
        "# Load the Iris dataset\n",
        "iris = datasets.load_iris()\n",
        "\n",
        "# Split the dataset into training and testing sets\n",
        "X_train, X_test, y_train, y_test = train_test_split(iris.data, iris.target, test_size=0.3)\n",
        "\n",
        "# Create a random forest classifier\n",
        "clf = RandomForestClassifier(n_estimators=100)\n",
        "\n",
        "# Train the classifier on the training data\n",
        "clf.fit(X_train, y_train)\n",
        "\n",
        "# Make predictions on the testing data\n",
        "predictions = clf.predict(X_test)\n",
        "\n",
        "# Calculate and print the accuracy of the model\n",
        "accuracy = (predictions == y_test).mean()\n",
        "print(f\"Accuracy: {accuracy:.2f}\")"
      ]
    },
    {
      "cell_type": "markdown",
      "source": [
        "This code uses the RandomForestClassifier class from scikit-learn to train a random forest model on the Iris dataset. It first splits the dataset into training and testing sets, using a test size of 30%. It then creates a random forest classifier with 100 decision trees and trains the classifier on the training data. Finally, it makes predictions on the testing data and calculates and prints the accuracy of the model.\n",
        "\n",
        "We can customize this code to suit your needs, such as by adjusting the test size or by using different evaluation metrics (e.g., precision, recall, or F1 score). You can also try different values for the parameter n_estimators, such as 50 or 200, to see how it affects the accuracy of the model. We can also adjust other parameters of the random forest classifier, such as the maximum depth of the trees or the minimum number of samples required to split a node."
      ],
      "metadata": {
        "id": "sYEyGMtkxk3B"
      }
    }
  ]
}