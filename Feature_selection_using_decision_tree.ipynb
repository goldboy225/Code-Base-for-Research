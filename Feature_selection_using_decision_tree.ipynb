{
  "nbformat": 4,
  "nbformat_minor": 0,
  "metadata": {
    "colab": {
      "provenance": [],
      "authorship_tag": "ABX9TyMXl4uDnYfAbEiqN//hqZo+",
      "include_colab_link": true
    },
    "kernelspec": {
      "name": "python3",
      "display_name": "Python 3"
    },
    "language_info": {
      "name": "python"
    }
  },
  "cells": [
    {
      "cell_type": "markdown",
      "metadata": {
        "id": "view-in-github",
        "colab_type": "text"
      },
      "source": [
        "<a href=\"https://colab.research.google.com/github/goldboy225/Coding-Practice-for-Research/blob/main/Feature_selection_using_decision_tree.ipynb\" target=\"_parent\"><img src=\"https://colab.research.google.com/assets/colab-badge.svg\" alt=\"Open In Colab\"/></a>"
      ]
    },
    {
      "cell_type": "markdown",
      "source": [
        "To implement a filter-based feature selection method using the iris data set and a decision tree classifier in Python, you can follow these steps:"
      ],
      "metadata": {
        "id": "3RJay-dcS8ki"
      }
    },
    {
      "cell_type": "markdown",
      "source": [
        "1. Begin by importing the necessary libraries. You'll need pandas to load the data, sklearn to build the decision tree classifier and perform feature selection, and matplotlib to visualize the results."
      ],
      "metadata": {
        "id": "JcG30odpTC31"
      }
    },
    {
      "cell_type": "code",
      "execution_count": 1,
      "metadata": {
        "id": "s_W8DBOLSzuh"
      },
      "outputs": [],
      "source": [
        "import pandas as pd\n",
        "from sklearn.tree import DecisionTreeClassifier\n",
        "from sklearn.feature_selection import SelectFromModel\n",
        "import matplotlib.pyplot as plt"
      ]
    },
    {
      "cell_type": "markdown",
      "source": [
        "2. Next, load the iris data set using pandas. The iris data set is a built-in data set in sklearn, so you can also use sklearn to load the data."
      ],
      "metadata": {
        "id": "DO5a9XU2TS6b"
      }
    },
    {
      "cell_type": "code",
      "source": [
        "# Load the data using pandas\n",
        "# df = pd.read_csv('iris.csv')\n",
        "\n",
        "# Load the data using sklearn\n",
        "from sklearn.datasets import load_iris\n",
        "iris_data = load_iris()\n",
        "df = pd.DataFrame(iris_data['data'], columns=iris_data['feature_names'])\n",
        "df['target'] = iris_data['target']"
      ],
      "metadata": {
        "id": "jQ4k9mFYS-Qa"
      },
      "execution_count": 2,
      "outputs": []
    },
    {
      "cell_type": "markdown",
      "source": [
        "3. Split the data into features (X) and target (y).\n"
      ],
      "metadata": {
        "id": "1--xrIPkTbx5"
      }
    },
    {
      "cell_type": "code",
      "source": [
        "# Split the data into features and target\n",
        "X = df.drop('target', axis=1)\n",
        "y = df['target']"
      ],
      "metadata": {
        "id": "zPjbDzMRTXVV"
      },
      "execution_count": 3,
      "outputs": []
    },
    {
      "cell_type": "markdown",
      "source": [
        "4. Build a decision tree classifier and use it to fit the data.\n"
      ],
      "metadata": {
        "id": "3SOgADl-ThL3"
      }
    },
    {
      "cell_type": "code",
      "source": [
        "# Build the classifier\n",
        "clf = DecisionTreeClassifier(random_state=0)\n",
        "clf.fit(X, y)"
      ],
      "metadata": {
        "colab": {
          "base_uri": "https://localhost:8080/"
        },
        "id": "Lt3tLFLyTejI",
        "outputId": "661afd90-4d1b-4031-8010-8e8cd086100c"
      },
      "execution_count": 4,
      "outputs": [
        {
          "output_type": "execute_result",
          "data": {
            "text/plain": [
              "DecisionTreeClassifier(random_state=0)"
            ]
          },
          "metadata": {},
          "execution_count": 4
        }
      ]
    },
    {
      "cell_type": "markdown",
      "source": [
        "5. Use the SelectFromModel function to select the features based on the importance scores assigned by the classifier."
      ],
      "metadata": {
        "id": "ci8r6WK9TnWD"
      }
    },
    {
      "cell_type": "code",
      "source": [
        "# Select the features using SelectFromModel\n",
        "sfm = SelectFromModel(clf, threshold=0.1)\n",
        "sfm.fit(X, y)"
      ],
      "metadata": {
        "colab": {
          "base_uri": "https://localhost:8080/"
        },
        "id": "P8gVhqliTl2L",
        "outputId": "207ab73a-388e-4f6e-b32f-3b8aeda7a7be"
      },
      "execution_count": 6,
      "outputs": [
        {
          "output_type": "execute_result",
          "data": {
            "text/plain": [
              "SelectFromModel(estimator=DecisionTreeClassifier(random_state=0), threshold=0.1)"
            ]
          },
          "metadata": {},
          "execution_count": 6
        }
      ]
    },
    {
      "cell_type": "markdown",
      "source": [
        "6. Plot the feature importances to visualize the results."
      ],
      "metadata": {
        "id": "O5ZudcpLTxDF"
      }
    },
    {
      "cell_type": "code",
      "source": [
        "# Plot the feature importances\n",
        "plt.bar(X.columns[sfm.get_support()], clf.feature_importances_[sfm.get_support()])\n",
        "plt.xticks(rotation=90)\n",
        "plt.show()"
      ],
      "metadata": {
        "colab": {
          "base_uri": "https://localhost:8080/",
          "height": 337
        },
        "id": "SLmcQ6IATqME",
        "outputId": "92e72b9a-f717-4bc1-c90e-079e8714fbac"
      },
      "execution_count": 7,
      "outputs": [
        {
          "output_type": "display_data",
          "data": {
            "text/plain": [
              "<Figure size 432x288 with 1 Axes>"
            ],
            "image/png": "[encoded data removed]"
          },
          "metadata": {
            "needs_background": "light"
          }
        }
      ]
    }
  ]
}