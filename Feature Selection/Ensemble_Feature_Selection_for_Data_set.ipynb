{
  "nbformat": 4,
  "nbformat_minor": 0,
  "metadata": {
    "colab": {
      "provenance": [],
      "toc_visible": true,
      "authorship_tag": "ABX9TyN91QEENPxvzO/bM72NBmiT",
      "include_colab_link": true
    },
    "kernelspec": {
      "name": "python3",
      "display_name": "Python 3"
    },
    "language_info": {
      "name": "python"
    }
  },
  "cells": [
    {
      "cell_type": "markdown",
      "metadata": {
        "id": "view-in-github",
        "colab_type": "text"
      },
      "source": [
        "<a href=\"https://colab.research.google.com/github/goldboy225/Coding-Practice-for-Research/blob/main/Ensemble_Feature_Selection_for_Data_set.ipynb\" target=\"_parent\"><img src=\"https://colab.research.google.com/assets/colab-badge.svg\" alt=\"Open In Colab\"/></a>"
      ]
    },
    {
      "cell_type": "markdown",
      "source": [
        "Here is the code that demonstrates how to combine chi-square and mutual information using majority voting, then do classificaion using DNN:"
      ],
      "metadata": {
        "id": "47WW52nXfYY8"
      }
    },
    {
      "cell_type": "markdown",
      "source": [
        "# 1. Load the data"
      ],
      "metadata": {
        "id": "6DRPbX1ChMWF"
      }
    },
    {
      "cell_type": "markdown",
      "source": [
        "To load the iris data and set x and y for classification in Python, you can use the following code:"
      ],
      "metadata": {
        "id": "7joMEMZSgSGU"
      }
    },
    {
      "cell_type": "code",
      "source": [
        "from sklearn.datasets import load_iris\n",
        "from sklearn.feature_selection import chi2, mutual_info_classif\n",
        "from sklearn.model_selection import train_test_split\n",
        "from sklearn.preprocessing import StandardScaler\n",
        "from sklearn.pipeline import Pipeline\n",
        "from sklearn.ensemble import RandomForestClassifier\n",
        "from sklearn.metrics import accuracy_score\n",
        "import numpy as np\n",
        "import tensorflow as tf\n",
        "\n",
        "# Load the Iris data\n",
        "iris = load_iris()\n",
        "X = iris['data']\n",
        "y = iris['target']"
      ],
      "metadata": {
        "id": "d7t4kANigQkI"
      },
      "execution_count": 35,
      "outputs": []
    },
    {
      "cell_type": "markdown",
      "source": [
        "This code uses the pandas library to load the iris data set from the UCI Machine Learning Repository (https://archive.ics.uci.edu/ml/datasets/Iris). The features (X) are the first four columns of the data, and the target (y) is the last column.\n",
        "\n",
        "You can then use these X and y variables to perform classification using any appropriate machine learning algorithm."
      ],
      "metadata": {
        "id": "0HEoBpjtgYKT"
      }
    },
    {
      "cell_type": "markdown",
      "source": [
        "# 2. Rank the features\n"
      ],
      "metadata": {
        "id": "Erf-8PfdhXHW"
      }
    },
    {
      "cell_type": "code",
      "source": [
        "# Rank the features using chi-square and mutual information with majority voting\n",
        "chi2_scores, _ = chi2(X, y)\n",
        "mutual_info_scores = mutual_info_classif(X, y)\n",
        "scores = (chi2_scores + mutual_info_scores) / 2\n",
        "ranking = np.argsort(-scores)\n",
        "print(ranking)"
      ],
      "metadata": {
        "colab": {
          "base_uri": "https://localhost:8080/"
        },
        "id": "FXFrGWoDoC2I",
        "outputId": "415224be-8a5f-4a37-f49e-b57e31689606"
      },
      "execution_count": 36,
      "outputs": [
        {
          "output_type": "stream",
          "name": "stdout",
          "text": [
            "[2 3 0 1]\n"
          ]
        }
      ]
    },
    {
      "cell_type": "markdown",
      "source": [
        "# 3. Define the data with selected features"
      ],
      "metadata": {
        "id": "RrtSSmFRh9hu"
      }
    },
    {
      "cell_type": "code",
      "source": [
        "# Select the top N features\n",
        "N = 2\n",
        "X_selected = X[:, ranking[:N]]"
      ],
      "metadata": {
        "id": "SzxZ808MpCRD"
      },
      "execution_count": 37,
      "outputs": []
    },
    {
      "cell_type": "markdown",
      "source": [
        "# 4. Data pre-processing for the selected data"
      ],
      "metadata": {
        "id": "SaHb0_BciUFs"
      }
    },
    {
      "cell_type": "code",
      "source": [
        "# Split the data into train and test sets\n",
        "X_train, X_test, y_train, y_test = train_test_split(X_selected, y, test_size=0.2, random_state=42)\n",
        "\n",
        "# Scale the data\n",
        "scaler = StandardScaler()\n",
        "X_train = scaler.fit_transform(X_train)\n",
        "X_test = scaler.transform(X_test)"
      ],
      "metadata": {
        "id": "owWiHMuEk7K8"
      },
      "execution_count": 38,
      "outputs": []
    },
    {
      "cell_type": "markdown",
      "source": [
        "# 5. Build and compile the model for DNN"
      ],
      "metadata": {
        "id": "VufXc7gDp_jD"
      }
    },
    {
      "cell_type": "code",
      "source": [
        "# Build the DNN model\n",
        "model = tf.keras.Sequential()\n",
        "model.add(tf.keras.layers.Dense(16, activation='relu', input_shape=(N,)))\n",
        "model.add(tf.keras.layers.Dense(8, activation='relu'))\n",
        "model.add(tf.keras.layers.Dense(3, activation='softmax'))\n",
        "\n",
        "# Compile the model\n",
        "model.compile(optimizer='adam', loss='sparse_categorical_crossentropy', metrics=['accuracy'])"
      ],
      "metadata": {
        "id": "G1opjzTeqE55"
      },
      "execution_count": 39,
      "outputs": []
    },
    {
      "cell_type": "markdown",
      "source": [
        "# 6. Train the model"
      ],
      "metadata": {
        "id": "FdORf-3Fq62Z"
      }
    },
    {
      "cell_type": "code",
      "source": [
        "# Train the model\n",
        "model.fit(X_train, y_train, epochs=10, batch_size=32, validation_data=(X_test, y_test))"
      ],
      "metadata": {
        "colab": {
          "base_uri": "https://localhost:8080/"
        },
        "id": "m5uMmuPDrDNG",
        "outputId": "f7ffbee8-8f76-47d6-ea11-c326ef0421f4"
      },
      "execution_count": 40,
      "outputs": [
        {
          "output_type": "stream",
          "name": "stdout",
          "text": [
            "Epoch 1/10\n",
            "4/4 [==============================] - 1s 57ms/step - loss: 1.1471 - accuracy: 0.3250 - val_loss: 1.1306 - val_accuracy: 0.2667\n",
            "Epoch 2/10\n",
            "4/4 [==============================] - 0s 9ms/step - loss: 1.1174 - accuracy: 0.3000 - val_loss: 1.0985 - val_accuracy: 0.2667\n",
            "Epoch 3/10\n",
            "4/4 [==============================] - 0s 11ms/step - loss: 1.0918 - accuracy: 0.2500 - val_loss: 1.0673 - val_accuracy: 0.2000\n",
            "Epoch 4/10\n",
            "4/4 [==============================] - 0s 10ms/step - loss: 1.0663 - accuracy: 0.2083 - val_loss: 1.0382 - val_accuracy: 0.5667\n",
            "Epoch 5/10\n",
            "4/4 [==============================] - 0s 12ms/step - loss: 1.0411 - accuracy: 0.6250 - val_loss: 1.0110 - val_accuracy: 0.7000\n",
            "Epoch 6/10\n",
            "4/4 [==============================] - 0s 10ms/step - loss: 1.0170 - accuracy: 0.6500 - val_loss: 0.9847 - val_accuracy: 0.7333\n",
            "Epoch 7/10\n",
            "4/4 [==============================] - 0s 9ms/step - loss: 0.9945 - accuracy: 0.6333 - val_loss: 0.9586 - val_accuracy: 0.8000\n",
            "Epoch 8/10\n",
            "4/4 [==============================] - 0s 10ms/step - loss: 0.9718 - accuracy: 0.6083 - val_loss: 0.9331 - val_accuracy: 0.8000\n",
            "Epoch 9/10\n",
            "4/4 [==============================] - 0s 9ms/step - loss: 0.9496 - accuracy: 0.6500 - val_loss: 0.9080 - val_accuracy: 0.7333\n",
            "Epoch 10/10\n",
            "4/4 [==============================] - 0s 9ms/step - loss: 0.9276 - accuracy: 0.6500 - val_loss: 0.8843 - val_accuracy: 0.7333\n"
          ]
        },
        {
          "output_type": "execute_result",
          "data": {
            "text/plain": [
              "<keras.callbacks.History at 0x7f94103f1e80>"
            ]
          },
          "metadata": {},
          "execution_count": 40
        }
      ]
    },
    {
      "cell_type": "markdown",
      "source": [
        "# 7. Evaluate the model with test data"
      ],
      "metadata": {
        "id": "koQ5FJZHrLBs"
      }
    },
    {
      "cell_type": "code",
      "source": [
        "# Evaluate the model on the test set\n",
        "test_loss, test_acc = model.evaluate(X_test, y_test)\n",
        "print('Test accuracy:', test_acc)"
      ],
      "metadata": {
        "colab": {
          "base_uri": "https://localhost:8080/"
        },
        "id": "x1d5Iks-nSAv",
        "outputId": "f46dddfd-46fc-45b4-a3c1-666cb3a45a9c"
      },
      "execution_count": 41,
      "outputs": [
        {
          "output_type": "stream",
          "name": "stdout",
          "text": [
            "1/1 [==============================] - 0s 24ms/step - loss: 0.8843 - accuracy: 0.7333\n",
            "Test accuracy: 0.7333333492279053\n"
          ]
        }
      ]
    }
  ]
}