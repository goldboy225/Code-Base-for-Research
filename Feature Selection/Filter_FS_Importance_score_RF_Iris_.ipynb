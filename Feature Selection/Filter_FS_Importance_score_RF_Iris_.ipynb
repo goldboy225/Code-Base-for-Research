{
  "nbformat": 4,
  "nbformat_minor": 0,
  "metadata": {
    "colab": {
      "provenance": [],
      "authorship_tag": "ABX9TyOBCHDOyHgMCn2zYo/nyCGg",
      "include_colab_link": true
    },
    "kernelspec": {
      "name": "python3",
      "display_name": "Python 3"
    },
    "language_info": {
      "name": "python"
    }
  },
  "cells": [
    {
      "cell_type": "markdown",
      "metadata": {
        "id": "view-in-github",
        "colab_type": "text"
      },
      "source": [
        "<a href=\"https://colab.research.google.com/github/goldboy225/Code-Base-for-Research/blob/main/Filter_FS_Importance_score_RF_Iris_.ipynb\" target=\"_parent\"><img src=\"https://colab.research.google.com/assets/colab-badge.svg\" alt=\"Open In Colab\"/></a>"
      ]
    },
    {
      "cell_type": "markdown",
      "source": [
        "Here is some code that demonstrates how to use feature importance scores from a random forest for feature selection on the Iris data set:"
      ],
      "metadata": {
        "id": "Nfpo1wUm80Qp"
      }
    },
    {
      "cell_type": "code",
      "execution_count": 1,
      "metadata": {
        "id": "n1Bk6h0B8wPo"
      },
      "outputs": [],
      "source": [
        "import pandas as pd\n",
        "import numpy as np\n",
        "from sklearn.ensemble import RandomForestClassifier\n",
        "\n",
        "# Load the Iris data set\n",
        "data = pd.read_csv(\"https://archive.ics.uci.edu/ml/machine-learning-databases/iris/iris.data\", \n",
        "                   names=[\"sepal length\", \"sepal width\", \"petal length\", \"petal width\", \"class\"])\n",
        "X = data.iloc[:, :-1]\n",
        "y = data[\"class\"]\n",
        "\n",
        "# Train a random forest model\n",
        "model = RandomForestClassifier(n_estimators=100)\n",
        "model.fit(X, y)\n",
        "\n",
        "# Compute the feature importances\n",
        "importances = model.feature_importances_\n",
        "\n",
        "# Sort the importances in descending order\n",
        "indices = np.argsort(importances)[::-1]\n",
        "\n",
        "# Select the top 2 features\n",
        "selected_features = indices[:2]"
      ]
    },
    {
      "cell_type": "code",
      "source": [
        "# Print the importance score\n",
        "importances"
      ],
      "metadata": {
        "colab": {
          "base_uri": "https://localhost:8080/"
        },
        "id": "KuRetkVI9Nbb",
        "outputId": "9855afa9-d8fc-432c-b710-81d1259bccc7"
      },
      "execution_count": 2,
      "outputs": [
        {
          "output_type": "execute_result",
          "data": {
            "text/plain": [
              "array([0.10453321, 0.03072126, 0.40195347, 0.46279206])"
            ]
          },
          "metadata": {},
          "execution_count": 2
        }
      ]
    },
    {
      "cell_type": "code",
      "source": [
        "# Print the selected features\n",
        "selected_features"
      ],
      "metadata": {
        "colab": {
          "base_uri": "https://localhost:8080/"
        },
        "id": "PwW24O_B9Pb7",
        "outputId": "fead1bff-e778-4d94-ab29-ead5549a4033"
      },
      "execution_count": 3,
      "outputs": [
        {
          "output_type": "execute_result",
          "data": {
            "text/plain": [
              "array([3, 2])"
            ]
          },
          "metadata": {},
          "execution_count": 3
        }
      ]
    },
    {
      "cell_type": "markdown",
      "source": [
        "This code first loads the Iris data set, which consists of measurements of sepal and petal lengths and widths for three different types of irises. It then trains a random forest model on the data and computes the feature importances. It sorts the importances in descending order and selects the top 2 features based on these importances.\n",
        "\n",
        "We can modify this code to suit our specific needs. For example, you can change the number of features to select, or adjust the hyperparameters of the random forest model. We can also use this approach to select features for regression tasks by using a random forest"
      ],
      "metadata": {
        "id": "wHAGDFVC9SPM"
      }
    }
  ]
}