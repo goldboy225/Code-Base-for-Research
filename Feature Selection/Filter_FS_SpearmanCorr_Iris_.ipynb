{
  "nbformat": 4,
  "nbformat_minor": 0,
  "metadata": {
    "colab": {
      "provenance": [],
      "authorship_tag": "ABX9TyNAH7DD46t1S0A0TGxfDd/f",
      "include_colab_link": true
    },
    "kernelspec": {
      "name": "python3",
      "display_name": "Python 3"
    },
    "language_info": {
      "name": "python"
    }
  },
  "cells": [
    {
      "cell_type": "markdown",
      "metadata": {
        "id": "view-in-github",
        "colab_type": "text"
      },
      "source": [
        "<a href=\"https://colab.research.google.com/github/goldboy225/Code-Base-for-Research/blob/main/Feature%20Selection/Filter_FS_SpearmanCorr_Iris_.ipynb\" target=\"_parent\"><img src=\"https://colab.research.google.com/assets/colab-badge.svg\" alt=\"Open In Colab\"/></a>"
      ]
    },
    {
      "cell_type": "markdown",
      "source": [
        "Here is an example of how we can use the Spearman correlation and Naive Bayes algorithm to select features from the Iris dataset in Python:"
      ],
      "metadata": {
        "id": "Js1ljDnR8Gkh"
      }
    },
    {
      "cell_type": "code",
      "execution_count": 21,
      "metadata": {
        "colab": {
          "base_uri": "https://localhost:8080/"
        },
        "id": "J-A5QvY178SM",
        "outputId": "feb0bac4-b7a0-4abe-c3af-1b36f994dbd5"
      },
      "outputs": [
        {
          "output_type": "stream",
          "name": "stdout",
          "text": [
            "{'sepal length (cm)': 0.7980781172420549, 'sepal width (cm)': 0.440289584131434, 'petal length (cm)': 0.9354305169914044, 'petal width (cm)': 0.9381791663400608}\n",
            "Top 2 features: ['petal width (cm)', 'petal length (cm)']\n"
          ]
        }
      ],
      "source": [
        "from sklearn.datasets import load_iris\n",
        "from sklearn.feature_selection import SelectKBest, mutual_info_classif, SelectKBest\n",
        "from scipy.stats import spearmanr\n",
        "iris = load_iris()\n",
        "X, y = iris.data, iris.target\n",
        "\n",
        "# Create an empty dictionary to store the feature scores\n",
        "scores = {}\n",
        "\n",
        "# Iterate through each feature\n",
        "for i in range(X.shape[1]):\n",
        "    # Calculate the spearman correlation with the target variable\n",
        "    score = spearmanr(X[:, i], y)[0]\n",
        "    scores[iris.feature_names[i]] = abs(score)\n",
        "\n",
        "# Print the feature scores\n",
        "print(scores)\n",
        "\n",
        "# Select the top K features\n",
        "k = 2\n",
        "top_k_features = [f for f, s in sorted(scores.items(), key=lambda item: item[1], reverse=True)][:k]\n",
        "print(\"Top {} features: {}\".format(k, top_k_features))\n"
      ]
    },
    {
      "cell_type": "markdown",
      "source": [
        "This code first imports the necessary modules, loads the Iris dataset, and assigns the features (X) and target (y) variables. Then, it uses the spearmanr function from the scipy.stats module to calculate the spearman correlation between each feature and the target variable. The absolute value of the correlation is stored in a dictionary with the feature names as keys.\n",
        "Then the code prints the feature scores and Select the top K features.\n",
        "\n",
        "The Spearman correlation is a non-parametric rank-based method of correlation, which means that it can be used to detect monotonic relationships between variables, even when the data is not normally distributed.\n",
        "It's worth noting that the correlation coefficient returned by the spearmanr function ranges between -1 and 1, where 1 indicates a perfect positive correlation, -1 indicates a perfect negative correlation and 0 indicates no correlation at all."
      ],
      "metadata": {
        "id": "nRO78iGSAHIv"
      }
    },
    {
      "cell_type": "code",
      "source": [],
      "metadata": {
        "id": "CCrTeYS--xNY"
      },
      "execution_count": null,
      "outputs": []
    }
  ]
}