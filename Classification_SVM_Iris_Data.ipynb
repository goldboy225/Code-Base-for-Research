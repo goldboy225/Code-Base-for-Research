{
  "nbformat": 4,
  "nbformat_minor": 0,
  "metadata": {
    "colab": {
      "provenance": [],
      "authorship_tag": "ABX9TyNpptVShfEjhA/ruYiIbx6N",
      "include_colab_link": true
    },
    "kernelspec": {
      "name": "python3",
      "display_name": "Python 3"
    },
    "language_info": {
      "name": "python"
    }
  },
  "cells": [
    {
      "cell_type": "markdown",
      "metadata": {
        "id": "view-in-github",
        "colab_type": "text"
      },
      "source": [
        "<a href=\"https://colab.research.google.com/github/goldboy225/Code-Base-for-Research/blob/main/Classification_SVM_Iris_Data_ipynb.ipynb\" target=\"_parent\"><img src=\"https://colab.research.google.com/assets/colab-badge.svg\" alt=\"Open In Colab\"/></a>"
      ]
    },
    {
      "cell_type": "markdown",
      "source": [
        "Here is the python code to implement classification on iris data using SVM algorithm"
      ],
      "metadata": {
        "id": "4_Gkt9YZrrpV"
      }
    },
    {
      "cell_type": "markdown",
      "source": [
        "Support Vector Machines (SVMs) are a type of supervised learning algorithm that can be used for classification and regression tasks. Here is a sample Python code that we can use to implement classification on the Iris dataset using an SVM algorithm:"
      ],
      "metadata": {
        "id": "G3dYpUYEryQo"
      }
    },
    {
      "cell_type": "code",
      "execution_count": 1,
      "metadata": {
        "colab": {
          "base_uri": "https://localhost:8080/"
        },
        "id": "M7GM-s2Vrp7-",
        "outputId": "d57dda7f-54af-42e4-fabd-5d3539f846a4"
      },
      "outputs": [
        {
          "output_type": "stream",
          "name": "stdout",
          "text": [
            "Accuracy: 0.98\n"
          ]
        }
      ],
      "source": [
        "# Import necessary libraries\n",
        "from sklearn import datasets\n",
        "from sklearn import svm\n",
        "from sklearn.model_selection import train_test_split\n",
        "\n",
        "# Load the Iris dataset\n",
        "iris = datasets.load_iris()\n",
        "\n",
        "# Split the dataset into training and testing sets\n",
        "X_train, X_test, y_train, y_test = train_test_split(iris.data, iris.target, test_size=0.3)\n",
        "\n",
        "# Create an SVM classifier\n",
        "clf = svm.SVC(kernel='linear')\n",
        "\n",
        "# Train the classifier on the training data\n",
        "clf.fit(X_train, y_train)\n",
        "\n",
        "# Make predictions on the testing data\n",
        "predictions = clf.predict(X_test)\n",
        "\n",
        "# Calculate and print the accuracy of the model\n",
        "accuracy = (predictions == y_test).mean()\n",
        "print(f\"Accuracy: {accuracy:.2f}\")"
      ]
    },
    {
      "cell_type": "markdown",
      "source": [
        "This code uses the SVC class from scikit-learn to train an SVM model on the Iris dataset. It first splits the dataset into training and testing sets, using a test size of 30%. It then creates an SVM classifier with a linear kernel and trains the classifier on the training data. Finally, it makes predictions on the testing data and calculates and prints the accuracy of the model.\n",
        "\n",
        "We can customize this code to suit our needs, such as by adjusting the test size or by using different evaluation metrics (e.g., precision, recall, or F1 score). You can also try different kernel functions, such as 'rbf' (radial basis function) or 'poly' (polynomial), to see how they affect the accuracy of the model."
      ],
      "metadata": {
        "id": "sdPxYfLRr_Wj"
      }
    }
  ]
}
