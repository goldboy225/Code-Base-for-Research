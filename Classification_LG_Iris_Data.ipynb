{
  "nbformat": 4,
  "nbformat_minor": 0,
  "metadata": {
    "colab": {
      "provenance": [],
      "authorship_tag": "ABX9TyMp8YaTcsB7+kZDqLD8WM5h",
      "include_colab_link": true
    },
    "kernelspec": {
      "name": "python3",
      "display_name": "Python 3"
    },
    "language_info": {
      "name": "python"
    }
  },
  "cells": [
    {
      "cell_type": "markdown",
      "metadata": {
        "id": "view-in-github",
        "colab_type": "text"
      },
      "source": [
        "<a href=\"https://colab.research.google.com/github/goldboy225/Code-Base-for-Research/blob/main/Classification_LG_Iris_Data_ipynb.ipynb\" target=\"_parent\"><img src=\"https://colab.research.google.com/assets/colab-badge.svg\" alt=\"Open In Colab\"/></a>"
      ]
    },
    {
      "cell_type": "markdown",
      "source": [
        "Here is the python code to implement classification on iris data using logistic regression algorithm"
      ],
      "metadata": {
        "id": "6MjqiMxYyJCe"
      }
    },
    {
      "cell_type": "markdown",
      "source": [
        "Logistic regression is a classification algorithm that works by fitting a logistic function to the data, which maps the input data to a probability between 0 and 1. Here is a sample Python code that we can use to implement classification on the Iris dataset using a logistic regression algorithm:"
      ],
      "metadata": {
        "id": "vN6qcOeAyQi5"
      }
    },
    {
      "cell_type": "code",
      "execution_count": 1,
      "metadata": {
        "colab": {
          "base_uri": "https://localhost:8080/"
        },
        "id": "OT1PxxLVx-RM",
        "outputId": "d521131e-2600-471b-dd46-74f2ab06aa7b"
      },
      "outputs": [
        {
          "output_type": "stream",
          "name": "stdout",
          "text": [
            "Accuracy: 0.96\n"
          ]
        }
      ],
      "source": [
        "# Import necessary libraries\n",
        "from sklearn import datasets\n",
        "from sklearn.linear_model import LogisticRegression\n",
        "from sklearn.model_selection import train_test_split\n",
        "\n",
        "# Load the Iris dataset\n",
        "iris = datasets.load_iris()\n",
        "\n",
        "# Split the dataset into training and testing sets\n",
        "X_train, X_test, y_train, y_test = train_test_split(iris.data, iris.target, test_size=0.3)\n",
        "\n",
        "# Create a logistic regression classifier\n",
        "clf = LogisticRegression()\n",
        "\n",
        "# Train the classifier on the training data\n",
        "clf.fit(X_train, y_train)\n",
        "\n",
        "# Make predictions on the testing data\n",
        "predictions = clf.predict(X_test)\n",
        "\n",
        "# Calculate and print the accuracy of the model\n",
        "accuracy = (predictions == y_test).mean()\n",
        "print(f\"Accuracy: {accuracy:.2f}\")"
      ]
    },
    {
      "cell_type": "markdown",
      "source": [
        "This code uses the LogisticRegression class from scikit-learn to train a logistic regression model on the Iris dataset. It first splits the dataset into training and testing sets, using a test size of 30%. It then creates a logistic regression classifier and trains the classifier on the training data. Finally, it makes predictions on the testing data and calculates and prints the accuracy of the model.\n",
        "\n",
        "WE can customize this code to suit our needs, such as by adjusting the test size or by using different evaluation metrics (e.g., precision, recall, or F1 score). We can also try different parameters for the logistic regression classifier, such as the regularization strength or the solver. You can also adjust the threshold for classifying a sample as a positive or negative case (currently set to 0.5)."
      ],
      "metadata": {
        "id": "08HzK2EKyXjB"
      }
    }
  ]
}
